{
 "metadata": {
  "language_info": {
   "codemirror_mode": {
    "name": "ipython",
    "version": 3
   },
   "file_extension": ".py",
   "mimetype": "text/x-python",
   "name": "python",
   "nbconvert_exporter": "python",
   "pygments_lexer": "ipython3",
   "version": "3.8.10"
  },
  "orig_nbformat": 2,
  "kernelspec": {
   "name": "python3810jvsc74a57bd069fefe8a05ed067aa524d2e4687ce4fe98c67287ddfa6aea5f6acb986df8cc30",
   "display_name": "Python 3.8.10 64-bit ('ML': conda)"
  }
 },
 "nbformat": 4,
 "nbformat_minor": 2,
 "cells": [
  {
   "cell_type": "code",
   "execution_count": 16,
   "metadata": {},
   "outputs": [],
   "source": [
    "import tensorflow as tf\n",
    "import numpy as np\n",
    "from tensorflow import keras\n",
    "import matplotlib.pyplot as plt"
   ]
  },
  {
   "cell_type": "code",
   "execution_count": 17,
   "metadata": {},
   "outputs": [],
   "source": [
    "fashion_mnist = keras.datasets.fashion_mnist\n",
    "(train_images, train_labels), (test_images, test_labels) = fashion_mnist.load_data()\n",
    "\n",
    "train_images  = train_images / 255.0\n",
    "test_images = test_images / 255.0"
   ]
  },
  {
   "cell_type": "code",
   "execution_count": 18,
   "metadata": {},
   "outputs": [
    {
     "output_type": "stream",
     "name": "stdout",
     "text": [
      "9\n[[0.         0.         0.         0.         0.         0.\n  0.         0.         0.         0.         0.         0.\n  0.         0.         0.         0.         0.         0.\n  0.         0.         0.         0.         0.         0.\n  0.         0.         0.         0.        ]\n [0.         0.         0.         0.         0.         0.\n  0.         0.         0.         0.         0.         0.\n  0.         0.         0.         0.         0.         0.\n  0.         0.         0.         0.         0.         0.\n  0.         0.         0.         0.        ]\n [0.         0.         0.         0.         0.         0.\n  0.         0.         0.         0.         0.         0.\n  0.         0.         0.         0.         0.         0.\n  0.         0.         0.         0.         0.         0.\n  0.         0.         0.         0.        ]\n [0.         0.         0.         0.         0.         0.\n  0.         0.         0.         0.         0.         0.\n  0.00392157 0.         0.         0.05098039 0.28627451 0.\n  0.         0.00392157 0.01568627 0.         0.         0.\n  0.         0.00392157 0.00392157 0.        ]\n [0.         0.         0.         0.         0.         0.\n  0.         0.         0.         0.         0.         0.\n  0.01176471 0.         0.14117647 0.53333333 0.49803922 0.24313725\n  0.21176471 0.         0.         0.         0.00392157 0.01176471\n  0.01568627 0.         0.         0.01176471]\n [0.         0.         0.         0.         0.         0.\n  0.         0.         0.         0.         0.         0.\n  0.02352941 0.         0.4        0.8        0.69019608 0.5254902\n  0.56470588 0.48235294 0.09019608 0.         0.         0.\n  0.         0.04705882 0.03921569 0.        ]\n [0.         0.         0.         0.         0.         0.\n  0.         0.         0.         0.         0.         0.\n  0.         0.         0.60784314 0.9254902  0.81176471 0.69803922\n  0.41960784 0.61176471 0.63137255 0.42745098 0.25098039 0.09019608\n  0.30196078 0.50980392 0.28235294 0.05882353]\n [0.         0.         0.         0.         0.         0.\n  0.         0.         0.         0.         0.         0.00392157\n  0.         0.27058824 0.81176471 0.8745098  0.85490196 0.84705882\n  0.84705882 0.63921569 0.49803922 0.4745098  0.47843137 0.57254902\n  0.55294118 0.34509804 0.6745098  0.25882353]\n [0.         0.         0.         0.         0.         0.\n  0.         0.         0.         0.00392157 0.00392157 0.00392157\n  0.         0.78431373 0.90980392 0.90980392 0.91372549 0.89803922\n  0.8745098  0.8745098  0.84313725 0.83529412 0.64313725 0.49803922\n  0.48235294 0.76862745 0.89803922 0.        ]\n [0.         0.         0.         0.         0.         0.\n  0.         0.         0.         0.         0.         0.\n  0.         0.71764706 0.88235294 0.84705882 0.8745098  0.89411765\n  0.92156863 0.89019608 0.87843137 0.87058824 0.87843137 0.86666667\n  0.8745098  0.96078431 0.67843137 0.        ]\n [0.         0.         0.         0.         0.         0.\n  0.         0.         0.         0.         0.         0.\n  0.         0.75686275 0.89411765 0.85490196 0.83529412 0.77647059\n  0.70588235 0.83137255 0.82352941 0.82745098 0.83529412 0.8745098\n  0.8627451  0.95294118 0.79215686 0.        ]\n [0.         0.         0.         0.         0.         0.\n  0.         0.         0.         0.00392157 0.01176471 0.\n  0.04705882 0.85882353 0.8627451  0.83137255 0.85490196 0.75294118\n  0.6627451  0.89019608 0.81568627 0.85490196 0.87843137 0.83137255\n  0.88627451 0.77254902 0.81960784 0.20392157]\n [0.         0.         0.         0.         0.         0.\n  0.         0.         0.         0.         0.02352941 0.\n  0.38823529 0.95686275 0.87058824 0.8627451  0.85490196 0.79607843\n  0.77647059 0.86666667 0.84313725 0.83529412 0.87058824 0.8627451\n  0.96078431 0.46666667 0.65490196 0.21960784]\n [0.         0.         0.         0.         0.         0.\n  0.         0.         0.         0.01568627 0.         0.\n  0.21568627 0.9254902  0.89411765 0.90196078 0.89411765 0.94117647\n  0.90980392 0.83529412 0.85490196 0.8745098  0.91764706 0.85098039\n  0.85098039 0.81960784 0.36078431 0.        ]\n [0.         0.         0.00392157 0.01568627 0.02352941 0.02745098\n  0.00784314 0.         0.         0.         0.         0.\n  0.92941176 0.88627451 0.85098039 0.8745098  0.87058824 0.85882353\n  0.87058824 0.86666667 0.84705882 0.8745098  0.89803922 0.84313725\n  0.85490196 1.         0.30196078 0.        ]\n [0.         0.01176471 0.         0.         0.         0.\n  0.         0.         0.         0.24313725 0.56862745 0.8\n  0.89411765 0.81176471 0.83529412 0.86666667 0.85490196 0.81568627\n  0.82745098 0.85490196 0.87843137 0.8745098  0.85882353 0.84313725\n  0.87843137 0.95686275 0.62352941 0.        ]\n [0.         0.         0.         0.         0.07058824 0.17254902\n  0.32156863 0.41960784 0.74117647 0.89411765 0.8627451  0.87058824\n  0.85098039 0.88627451 0.78431373 0.80392157 0.82745098 0.90196078\n  0.87843137 0.91764706 0.69019608 0.7372549  0.98039216 0.97254902\n  0.91372549 0.93333333 0.84313725 0.        ]\n [0.         0.22352941 0.73333333 0.81568627 0.87843137 0.86666667\n  0.87843137 0.81568627 0.8        0.83921569 0.81568627 0.81960784\n  0.78431373 0.62352941 0.96078431 0.75686275 0.80784314 0.8745098\n  1.         1.         0.86666667 0.91764706 0.86666667 0.82745098\n  0.8627451  0.90980392 0.96470588 0.        ]\n [0.01176471 0.79215686 0.89411765 0.87843137 0.86666667 0.82745098\n  0.82745098 0.83921569 0.80392157 0.80392157 0.80392157 0.8627451\n  0.94117647 0.31372549 0.58823529 1.         0.89803922 0.86666667\n  0.7372549  0.60392157 0.74901961 0.82352941 0.8        0.81960784\n  0.87058824 0.89411765 0.88235294 0.        ]\n [0.38431373 0.91372549 0.77647059 0.82352941 0.87058824 0.89803922\n  0.89803922 0.91764706 0.97647059 0.8627451  0.76078431 0.84313725\n  0.85098039 0.94509804 0.25490196 0.28627451 0.41568627 0.45882353\n  0.65882353 0.85882353 0.86666667 0.84313725 0.85098039 0.8745098\n  0.8745098  0.87843137 0.89803922 0.11372549]\n [0.29411765 0.8        0.83137255 0.8        0.75686275 0.80392157\n  0.82745098 0.88235294 0.84705882 0.7254902  0.77254902 0.80784314\n  0.77647059 0.83529412 0.94117647 0.76470588 0.89019608 0.96078431\n  0.9372549  0.8745098  0.85490196 0.83137255 0.81960784 0.87058824\n  0.8627451  0.86666667 0.90196078 0.2627451 ]\n [0.18823529 0.79607843 0.71764706 0.76078431 0.83529412 0.77254902\n  0.7254902  0.74509804 0.76078431 0.75294118 0.79215686 0.83921569\n  0.85882353 0.86666667 0.8627451  0.9254902  0.88235294 0.84705882\n  0.78039216 0.80784314 0.72941176 0.70980392 0.69411765 0.6745098\n  0.70980392 0.80392157 0.80784314 0.45098039]\n [0.         0.47843137 0.85882353 0.75686275 0.70196078 0.67058824\n  0.71764706 0.76862745 0.8        0.82352941 0.83529412 0.81176471\n  0.82745098 0.82352941 0.78431373 0.76862745 0.76078431 0.74901961\n  0.76470588 0.74901961 0.77647059 0.75294118 0.69019608 0.61176471\n  0.65490196 0.69411765 0.82352941 0.36078431]\n [0.         0.         0.29019608 0.74117647 0.83137255 0.74901961\n  0.68627451 0.6745098  0.68627451 0.70980392 0.7254902  0.7372549\n  0.74117647 0.7372549  0.75686275 0.77647059 0.8        0.81960784\n  0.82352941 0.82352941 0.82745098 0.7372549  0.7372549  0.76078431\n  0.75294118 0.84705882 0.66666667 0.        ]\n [0.00784314 0.         0.         0.         0.25882353 0.78431373\n  0.87058824 0.92941176 0.9372549  0.94901961 0.96470588 0.95294118\n  0.95686275 0.86666667 0.8627451  0.75686275 0.74901961 0.70196078\n  0.71372549 0.71372549 0.70980392 0.69019608 0.65098039 0.65882353\n  0.38823529 0.22745098 0.         0.        ]\n [0.         0.         0.         0.         0.         0.\n  0.         0.15686275 0.23921569 0.17254902 0.28235294 0.16078431\n  0.1372549  0.         0.         0.         0.         0.\n  0.         0.         0.         0.         0.         0.\n  0.         0.         0.         0.        ]\n [0.         0.         0.         0.         0.         0.\n  0.         0.         0.         0.         0.         0.\n  0.         0.         0.         0.         0.         0.\n  0.         0.         0.         0.         0.         0.\n  0.         0.         0.         0.        ]\n [0.         0.         0.         0.         0.         0.\n  0.         0.         0.         0.         0.         0.\n  0.         0.         0.         0.         0.         0.\n  0.         0.         0.         0.         0.         0.\n  0.         0.         0.         0.        ]]\n"
     ]
    },
    {
     "output_type": "display_data",
     "data": {
      "text/plain": "<Figure size 432x288 with 1 Axes>",
      "image/svg+xml": "<?xml version=\"1.0\" encoding=\"utf-8\" standalone=\"no\"?>\r\n<!DOCTYPE svg PUBLIC \"-//W3C//DTD SVG 1.1//EN\"\r\n  \"http://www.w3.org/Graphics/SVG/1.1/DTD/svg11.dtd\">\r\n<svg height=\"248.518125pt\" version=\"1.1\" viewBox=\"0 0 251.565 248.518125\" width=\"251.565pt\" xmlns=\"http://www.w3.org/2000/svg\" xmlns:xlink=\"http://www.w3.org/1999/xlink\">\r\n <metadata>\r\n  <rdf:RDF xmlns:cc=\"http://creativecommons.org/ns#\" xmlns:dc=\"http://purl.org/dc/elements/1.1/\" xmlns:rdf=\"http://www.w3.org/1999/02/22-rdf-syntax-ns#\">\r\n   <cc:Work>\r\n    <dc:type rdf:resource=\"http://purl.org/dc/dcmitype/StillImage\"/>\r\n    <dc:date>2021-05-26T17:57:56.866917</dc:date>\r\n    <dc:format>image/svg+xml</dc:format>\r\n    <dc:creator>\r\n     <cc:Agent>\r\n      <dc:title>Matplotlib v3.4.2, https://matplotlib.org/</dc:title>\r\n     </cc:Agent>\r\n    </dc:creator>\r\n   </cc:Work>\r\n  </rdf:RDF>\r\n </metadata>\r\n <defs>\r\n  <style type=\"text/css\">*{stroke-linecap:butt;stroke-linejoin:round;}</style>\r\n </defs>\r\n <g id=\"figure_1\">\r\n  <g id=\"patch_1\">\r\n   <path d=\"M 0 248.518125 \r\nL 251.565 248.518125 \r\nL 251.565 0 \r\nL 0 0 \r\nz\r\n\" style=\"fill:none;\"/>\r\n  </g>\r\n  <g id=\"axes_1\">\r\n   <g id=\"patch_2\">\r\n    <path d=\"M 26.925 224.64 \r\nL 244.365 224.64 \r\nL 244.365 7.2 \r\nL 26.925 7.2 \r\nz\r\n\" style=\"fill:#ffffff;\"/>\r\n   </g>\r\n   <g clip-path=\"url(#p7f17eb0245)\">\r\n    <image height=\"218\" id=\"image02d0939284\" transform=\"scale(1 -1)translate(0 -218)\" width=\"218\" x=\"26.925\" xlink:href=\"data:image/png;base64,\r\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\" y=\"-6.64\"/>\r\n   </g>\r\n   <g id=\"matplotlib.axis_1\">\r\n    <g id=\"xtick_1\">\r\n     <g id=\"line2d_1\">\r\n      <defs>\r\n       <path d=\"M 0 0 \r\nL 0 3.5 \r\n\" id=\"m7e5b38f634\" style=\"stroke:#000000;stroke-width:0.8;\"/>\r\n      </defs>\r\n      <g>\r\n       <use style=\"stroke:#000000;stroke-width:0.8;\" x=\"30.807857\" xlink:href=\"#m7e5b38f634\" y=\"224.64\"/>\r\n      </g>\r\n     </g>\r\n     <g id=\"text_1\">\r\n      <!-- 0 -->\r\n      <g transform=\"translate(27.626607 239.238437)scale(0.1 -0.1)\">\r\n       <defs>\r\n        <path d=\"M 2034 4250 \r\nQ 1547 4250 1301 3770 \r\nQ 1056 3291 1056 2328 \r\nQ 1056 1369 1301 889 \r\nQ 1547 409 2034 409 \r\nQ 2525 409 2770 889 \r\nQ 3016 1369 3016 2328 \r\nQ 3016 3291 2770 3770 \r\nQ 2525 4250 2034 4250 \r\nz\r\nM 2034 4750 \r\nQ 2819 4750 3233 4129 \r\nQ 3647 3509 3647 2328 \r\nQ 3647 1150 3233 529 \r\nQ 2819 -91 2034 -91 \r\nQ 1250 -91 836 529 \r\nQ 422 1150 422 2328 \r\nQ 422 3509 836 4129 \r\nQ 1250 4750 2034 4750 \r\nz\r\n\" id=\"DejaVuSans-30\" transform=\"scale(0.015625)\"/>\r\n       </defs>\r\n       <use xlink:href=\"#DejaVuSans-30\"/>\r\n      </g>\r\n     </g>\r\n    </g>\r\n    <g id=\"xtick_2\">\r\n     <g id=\"line2d_2\">\r\n      <g>\r\n       <use style=\"stroke:#000000;stroke-width:0.8;\" x=\"69.636429\" xlink:href=\"#m7e5b38f634\" y=\"224.64\"/>\r\n      </g>\r\n     </g>\r\n     <g id=\"text_2\">\r\n      <!-- 5 -->\r\n      <g transform=\"translate(66.455179 239.238437)scale(0.1 -0.1)\">\r\n       <defs>\r\n        <path d=\"M 691 4666 \r\nL 3169 4666 \r\nL 3169 4134 \r\nL 1269 4134 \r\nL 1269 2991 \r\nQ 1406 3038 1543 3061 \r\nQ 1681 3084 1819 3084 \r\nQ 2600 3084 3056 2656 \r\nQ 3513 2228 3513 1497 \r\nQ 3513 744 3044 326 \r\nQ 2575 -91 1722 -91 \r\nQ 1428 -91 1123 -41 \r\nQ 819 9 494 109 \r\nL 494 744 \r\nQ 775 591 1075 516 \r\nQ 1375 441 1709 441 \r\nQ 2250 441 2565 725 \r\nQ 2881 1009 2881 1497 \r\nQ 2881 1984 2565 2268 \r\nQ 2250 2553 1709 2553 \r\nQ 1456 2553 1204 2497 \r\nQ 953 2441 691 2322 \r\nL 691 4666 \r\nz\r\n\" id=\"DejaVuSans-35\" transform=\"scale(0.015625)\"/>\r\n       </defs>\r\n       <use xlink:href=\"#DejaVuSans-35\"/>\r\n      </g>\r\n     </g>\r\n    </g>\r\n    <g id=\"xtick_3\">\r\n     <g id=\"line2d_3\">\r\n      <g>\r\n       <use style=\"stroke:#000000;stroke-width:0.8;\" x=\"108.465\" xlink:href=\"#m7e5b38f634\" y=\"224.64\"/>\r\n      </g>\r\n     </g>\r\n     <g id=\"text_3\">\r\n      <!-- 10 -->\r\n      <g transform=\"translate(102.1025 239.238437)scale(0.1 -0.1)\">\r\n       <defs>\r\n        <path d=\"M 794 531 \r\nL 1825 531 \r\nL 1825 4091 \r\nL 703 3866 \r\nL 703 4441 \r\nL 1819 4666 \r\nL 2450 4666 \r\nL 2450 531 \r\nL 3481 531 \r\nL 3481 0 \r\nL 794 0 \r\nL 794 531 \r\nz\r\n\" id=\"DejaVuSans-31\" transform=\"scale(0.015625)\"/>\r\n       </defs>\r\n       <use xlink:href=\"#DejaVuSans-31\"/>\r\n       <use x=\"63.623047\" xlink:href=\"#DejaVuSans-30\"/>\r\n      </g>\r\n     </g>\r\n    </g>\r\n    <g id=\"xtick_4\">\r\n     <g id=\"line2d_4\">\r\n      <g>\r\n       <use style=\"stroke:#000000;stroke-width:0.8;\" x=\"147.293571\" xlink:href=\"#m7e5b38f634\" y=\"224.64\"/>\r\n      </g>\r\n     </g>\r\n     <g id=\"text_4\">\r\n      <!-- 15 -->\r\n      <g transform=\"translate(140.931071 239.238437)scale(0.1 -0.1)\">\r\n       <use xlink:href=\"#DejaVuSans-31\"/>\r\n       <use x=\"63.623047\" xlink:href=\"#DejaVuSans-35\"/>\r\n      </g>\r\n     </g>\r\n    </g>\r\n    <g id=\"xtick_5\">\r\n     <g id=\"line2d_5\">\r\n      <g>\r\n       <use style=\"stroke:#000000;stroke-width:0.8;\" x=\"186.122143\" xlink:href=\"#m7e5b38f634\" y=\"224.64\"/>\r\n      </g>\r\n     </g>\r\n     <g id=\"text_5\">\r\n      <!-- 20 -->\r\n      <g transform=\"translate(179.759643 239.238437)scale(0.1 -0.1)\">\r\n       <defs>\r\n        <path d=\"M 1228 531 \r\nL 3431 531 \r\nL 3431 0 \r\nL 469 0 \r\nL 469 531 \r\nQ 828 903 1448 1529 \r\nQ 2069 2156 2228 2338 \r\nQ 2531 2678 2651 2914 \r\nQ 2772 3150 2772 3378 \r\nQ 2772 3750 2511 3984 \r\nQ 2250 4219 1831 4219 \r\nQ 1534 4219 1204 4116 \r\nQ 875 4013 500 3803 \r\nL 500 4441 \r\nQ 881 4594 1212 4672 \r\nQ 1544 4750 1819 4750 \r\nQ 2544 4750 2975 4387 \r\nQ 3406 4025 3406 3419 \r\nQ 3406 3131 3298 2873 \r\nQ 3191 2616 2906 2266 \r\nQ 2828 2175 2409 1742 \r\nQ 1991 1309 1228 531 \r\nz\r\n\" id=\"DejaVuSans-32\" transform=\"scale(0.015625)\"/>\r\n       </defs>\r\n       <use xlink:href=\"#DejaVuSans-32\"/>\r\n       <use x=\"63.623047\" xlink:href=\"#DejaVuSans-30\"/>\r\n      </g>\r\n     </g>\r\n    </g>\r\n    <g id=\"xtick_6\">\r\n     <g id=\"line2d_6\">\r\n      <g>\r\n       <use style=\"stroke:#000000;stroke-width:0.8;\" x=\"224.950714\" xlink:href=\"#m7e5b38f634\" y=\"224.64\"/>\r\n      </g>\r\n     </g>\r\n     <g id=\"text_6\">\r\n      <!-- 25 -->\r\n      <g transform=\"translate(218.588214 239.238437)scale(0.1 -0.1)\">\r\n       <use xlink:href=\"#DejaVuSans-32\"/>\r\n       <use x=\"63.623047\" xlink:href=\"#DejaVuSans-35\"/>\r\n      </g>\r\n     </g>\r\n    </g>\r\n   </g>\r\n   <g id=\"matplotlib.axis_2\">\r\n    <g id=\"ytick_1\">\r\n     <g id=\"line2d_7\">\r\n      <defs>\r\n       <path d=\"M 0 0 \r\nL -3.5 0 \r\n\" id=\"mf855d2c54d\" style=\"stroke:#000000;stroke-width:0.8;\"/>\r\n      </defs>\r\n      <g>\r\n       <use style=\"stroke:#000000;stroke-width:0.8;\" x=\"26.925\" xlink:href=\"#mf855d2c54d\" y=\"11.082857\"/>\r\n      </g>\r\n     </g>\r\n     <g id=\"text_7\">\r\n      <!-- 0 -->\r\n      <g transform=\"translate(13.5625 14.882076)scale(0.1 -0.1)\">\r\n       <use xlink:href=\"#DejaVuSans-30\"/>\r\n      </g>\r\n     </g>\r\n    </g>\r\n    <g id=\"ytick_2\">\r\n     <g id=\"line2d_8\">\r\n      <g>\r\n       <use style=\"stroke:#000000;stroke-width:0.8;\" x=\"26.925\" xlink:href=\"#mf855d2c54d\" y=\"49.911429\"/>\r\n      </g>\r\n     </g>\r\n     <g id=\"text_8\">\r\n      <!-- 5 -->\r\n      <g transform=\"translate(13.5625 53.710647)scale(0.1 -0.1)\">\r\n       <use xlink:href=\"#DejaVuSans-35\"/>\r\n      </g>\r\n     </g>\r\n    </g>\r\n    <g id=\"ytick_3\">\r\n     <g id=\"line2d_9\">\r\n      <g>\r\n       <use style=\"stroke:#000000;stroke-width:0.8;\" x=\"26.925\" xlink:href=\"#mf855d2c54d\" y=\"88.74\"/>\r\n      </g>\r\n     </g>\r\n     <g id=\"text_9\">\r\n      <!-- 10 -->\r\n      <g transform=\"translate(7.2 92.539219)scale(0.1 -0.1)\">\r\n       <use xlink:href=\"#DejaVuSans-31\"/>\r\n       <use x=\"63.623047\" xlink:href=\"#DejaVuSans-30\"/>\r\n      </g>\r\n     </g>\r\n    </g>\r\n    <g id=\"ytick_4\">\r\n     <g id=\"line2d_10\">\r\n      <g>\r\n       <use style=\"stroke:#000000;stroke-width:0.8;\" x=\"26.925\" xlink:href=\"#mf855d2c54d\" y=\"127.568571\"/>\r\n      </g>\r\n     </g>\r\n     <g id=\"text_10\">\r\n      <!-- 15 -->\r\n      <g transform=\"translate(7.2 131.36779)scale(0.1 -0.1)\">\r\n       <use xlink:href=\"#DejaVuSans-31\"/>\r\n       <use x=\"63.623047\" xlink:href=\"#DejaVuSans-35\"/>\r\n      </g>\r\n     </g>\r\n    </g>\r\n    <g id=\"ytick_5\">\r\n     <g id=\"line2d_11\">\r\n      <g>\r\n       <use style=\"stroke:#000000;stroke-width:0.8;\" x=\"26.925\" xlink:href=\"#mf855d2c54d\" y=\"166.397143\"/>\r\n      </g>\r\n     </g>\r\n     <g id=\"text_11\">\r\n      <!-- 20 -->\r\n      <g transform=\"translate(7.2 170.196362)scale(0.1 -0.1)\">\r\n       <use xlink:href=\"#DejaVuSans-32\"/>\r\n       <use x=\"63.623047\" xlink:href=\"#DejaVuSans-30\"/>\r\n      </g>\r\n     </g>\r\n    </g>\r\n    <g id=\"ytick_6\">\r\n     <g id=\"line2d_12\">\r\n      <g>\r\n       <use style=\"stroke:#000000;stroke-width:0.8;\" x=\"26.925\" xlink:href=\"#mf855d2c54d\" y=\"205.225714\"/>\r\n      </g>\r\n     </g>\r\n     <g id=\"text_12\">\r\n      <!-- 25 -->\r\n      <g transform=\"translate(7.2 209.024933)scale(0.1 -0.1)\">\r\n       <use xlink:href=\"#DejaVuSans-32\"/>\r\n       <use x=\"63.623047\" xlink:href=\"#DejaVuSans-35\"/>\r\n      </g>\r\n     </g>\r\n    </g>\r\n   </g>\r\n   <g id=\"patch_3\">\r\n    <path d=\"M 26.925 224.64 \r\nL 26.925 7.2 \r\n\" style=\"fill:none;stroke:#000000;stroke-linecap:square;stroke-linejoin:miter;stroke-width:0.8;\"/>\r\n   </g>\r\n   <g id=\"patch_4\">\r\n    <path d=\"M 244.365 224.64 \r\nL 244.365 7.2 \r\n\" style=\"fill:none;stroke:#000000;stroke-linecap:square;stroke-linejoin:miter;stroke-width:0.8;\"/>\r\n   </g>\r\n   <g id=\"patch_5\">\r\n    <path d=\"M 26.925 224.64 \r\nL 244.365 224.64 \r\n\" style=\"fill:none;stroke:#000000;stroke-linecap:square;stroke-linejoin:miter;stroke-width:0.8;\"/>\r\n   </g>\r\n   <g id=\"patch_6\">\r\n    <path d=\"M 26.925 7.2 \r\nL 244.365 7.2 \r\n\" style=\"fill:none;stroke:#000000;stroke-linecap:square;stroke-linejoin:miter;stroke-width:0.8;\"/>\r\n   </g>\r\n  </g>\r\n </g>\r\n <defs>\r\n  <clipPath id=\"p7f17eb0245\">\r\n   <rect height=\"217.44\" width=\"217.44\" x=\"26.925\" y=\"7.2\"/>\r\n  </clipPath>\r\n </defs>\r\n</svg>\r\n",
      "image/png": "[encoded data removed]"
     },
     "metadata": {
      "needs_background": "light"
     }
    }
   ],
   "source": [
    "plt.imshow(train_images[0])\n",
    "print(train_labels[0])\n",
    "print(train_images[0])"
   ]
  },
  {
   "cell_type": "code",
   "execution_count": 19,
   "metadata": {},
   "outputs": [],
   "source": [
    "model = keras.Sequential([\n",
    "    keras.layers.Flatten(input_shape=(28, 28)),\n",
    "    keras.layers.Dense(128, activation=tf.nn.relu),\n",
    "    keras.layers.Dense(10, activation=tf.nn.softmax),\n",
    "])\n",
    "\n",
    "model.compile(optimizer=tf.keras.optimizers.Adam(), loss='sparse_categorical_crossentropy')"
   ]
  },
  {
   "cell_type": "code",
   "execution_count": 20,
   "metadata": {},
   "outputs": [
    {
     "output_type": "stream",
     "name": "stdout",
     "text": [
      "Epoch 1/50\n",
      "1875/1875 [==============================] - 1s 446us/step - loss: 0.5021\n",
      "Epoch 2/50\n",
      "1875/1875 [==============================] - 1s 449us/step - loss: 0.3779\n",
      "Epoch 3/50\n",
      "1875/1875 [==============================] - 1s 453us/step - loss: 0.3375\n",
      "Epoch 4/50\n",
      "1875/1875 [==============================] - 1s 454us/step - loss: 0.3142\n",
      "Epoch 5/50\n",
      "1875/1875 [==============================] - 1s 475us/step - loss: 0.2968\n",
      "Epoch 6/50\n",
      "1875/1875 [==============================] - 1s 483us/step - loss: 0.2798\n",
      "Epoch 7/50\n",
      "1875/1875 [==============================] - 1s 484us/step - loss: 0.2708\n",
      "Epoch 8/50\n",
      "1875/1875 [==============================] - 1s 498us/step - loss: 0.2581\n",
      "Epoch 9/50\n",
      "1875/1875 [==============================] - 1s 493us/step - loss: 0.2484\n",
      "Epoch 10/50\n",
      "1875/1875 [==============================] - 1s 493us/step - loss: 0.2395\n",
      "Epoch 11/50\n",
      "1875/1875 [==============================] - 1s 494us/step - loss: 0.2306\n",
      "Epoch 12/50\n",
      "1875/1875 [==============================] - 1s 492us/step - loss: 0.2234\n",
      "Epoch 13/50\n",
      "1875/1875 [==============================] - 1s 494us/step - loss: 0.2174\n",
      "Epoch 14/50\n",
      "1875/1875 [==============================] - 1s 499us/step - loss: 0.2119\n",
      "Epoch 15/50\n",
      "1875/1875 [==============================] - 1s 509us/step - loss: 0.2037\n",
      "Epoch 16/50\n",
      "1875/1875 [==============================] - 1s 507us/step - loss: 0.1979\n",
      "Epoch 17/50\n",
      "1875/1875 [==============================] - 1s 500us/step - loss: 0.1935\n",
      "Epoch 18/50\n",
      "1875/1875 [==============================] - 1s 511us/step - loss: 0.1868\n",
      "Epoch 19/50\n",
      "1875/1875 [==============================] - 1s 506us/step - loss: 0.1829\n",
      "Epoch 20/50\n",
      "1875/1875 [==============================] - 1s 508us/step - loss: 0.1779\n",
      "Epoch 21/50\n",
      "1875/1875 [==============================] - 1s 501us/step - loss: 0.1760\n",
      "Epoch 22/50\n",
      "1875/1875 [==============================] - 1s 506us/step - loss: 0.1703\n",
      "Epoch 23/50\n",
      "1875/1875 [==============================] - 1s 518us/step - loss: 0.1665\n",
      "Epoch 24/50\n",
      "1875/1875 [==============================] - 1s 510us/step - loss: 0.1617\n",
      "Epoch 25/50\n",
      "1875/1875 [==============================] - 1s 505us/step - loss: 0.1585\n",
      "Epoch 26/50\n",
      "1875/1875 [==============================] - 1s 501us/step - loss: 0.1561\n",
      "Epoch 27/50\n",
      "1875/1875 [==============================] - 1s 501us/step - loss: 0.1495\n",
      "Epoch 28/50\n",
      "1875/1875 [==============================] - 1s 509us/step - loss: 0.1463\n",
      "Epoch 29/50\n",
      "1875/1875 [==============================] - 1s 503us/step - loss: 0.1441\n",
      "Epoch 30/50\n",
      "1875/1875 [==============================] - 1s 506us/step - loss: 0.1415\n",
      "Epoch 31/50\n",
      "1875/1875 [==============================] - 1s 502us/step - loss: 0.1388\n",
      "Epoch 32/50\n",
      "1875/1875 [==============================] - 1s 495us/step - loss: 0.1355\n",
      "Epoch 33/50\n",
      "1875/1875 [==============================] - 1s 494us/step - loss: 0.1336\n",
      "Epoch 34/50\n",
      "1875/1875 [==============================] - 1s 495us/step - loss: 0.1295\n",
      "Epoch 35/50\n",
      "1875/1875 [==============================] - 1s 502us/step - loss: 0.1278\n",
      "Epoch 36/50\n",
      "1875/1875 [==============================] - 1s 507us/step - loss: 0.1263\n",
      "Epoch 37/50\n",
      "1875/1875 [==============================] - 1s 495us/step - loss: 0.1228\n",
      "Epoch 38/50\n",
      "1875/1875 [==============================] - 1s 494us/step - loss: 0.1230\n",
      "Epoch 39/50\n",
      "1875/1875 [==============================] - 1s 500us/step - loss: 0.1168\n",
      "Epoch 40/50\n",
      "1875/1875 [==============================] - 1s 497us/step - loss: 0.1168\n",
      "Epoch 41/50\n",
      "1875/1875 [==============================] - 1s 512us/step - loss: 0.1145\n",
      "Epoch 42/50\n",
      "1875/1875 [==============================] - 1s 520us/step - loss: 0.1126\n",
      "Epoch 43/50\n",
      "1875/1875 [==============================] - 1s 499us/step - loss: 0.1077\n",
      "Epoch 44/50\n",
      "1875/1875 [==============================] - 1s 494us/step - loss: 0.1095\n",
      "Epoch 45/50\n",
      "1875/1875 [==============================] - 1s 494us/step - loss: 0.1037\n",
      "Epoch 46/50\n",
      "1875/1875 [==============================] - 1s 494us/step - loss: 0.1074\n",
      "Epoch 47/50\n",
      "1875/1875 [==============================] - 1s 493us/step - loss: 0.1010\n",
      "Epoch 48/50\n",
      "1875/1875 [==============================] - 1s 493us/step - loss: 0.1017\n",
      "Epoch 49/50\n",
      "1875/1875 [==============================] - 1s 495us/step - loss: 0.0985\n",
      "Epoch 50/50\n",
      "1875/1875 [==============================] - 1s 499us/step - loss: 0.0972\n"
     ]
    },
    {
     "output_type": "execute_result",
     "data": {
      "text/plain": [
       "<tensorflow.python.keras.callbacks.History at 0x21a5c4e1940>"
      ]
     },
     "metadata": {},
     "execution_count": 20
    }
   ],
   "source": [
    "model.fit(train_images, train_labels, epochs=50)"
   ]
  },
  {
   "cell_type": "code",
   "execution_count": 22,
   "metadata": {},
   "outputs": [
    {
     "output_type": "stream",
     "name": "stdout",
     "text": [
      "313/313 [==============================] - 0s 317us/step - loss: 0.5259\n"
     ]
    },
    {
     "output_type": "execute_result",
     "data": {
      "text/plain": [
       "0.5258573889732361"
      ]
     },
     "metadata": {},
     "execution_count": 22
    }
   ],
   "source": [
    "model.evaluate(test_images, test_labels)"
   ]
  },
  {
   "cell_type": "code",
   "execution_count": 24,
   "metadata": {},
   "outputs": [
    {
     "output_type": "stream",
     "name": "stdout",
     "text": [
      "[1.8688471e-20 1.1672746e-28 6.1895808e-17 1.6152475e-23 4.9056020e-30\n 6.5964290e-14 1.1110129e-19 3.2198217e-09 2.7492289e-18 1.0000000e+00]\n9\n"
     ]
    }
   ],
   "source": [
    "classifications = model.predict(test_images)\n",
    "\n",
    "print(classifications[0])\n",
    "print(test_labels[0])"
   ]
  }
 ]
}